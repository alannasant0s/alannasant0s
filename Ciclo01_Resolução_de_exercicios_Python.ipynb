{
  "nbformat": 4,
  "nbformat_minor": 0,
  "metadata": {
    "colab": {
      "provenance": [],
      "authorship_tag": "ABX9TyPI0KQjBiYV5faj/+v8xsPH",
      "include_colab_link": true
    },
    "kernelspec": {
      "name": "python3",
      "display_name": "Python 3"
    },
    "language_info": {
      "name": "python"
    }
  },
  "cells": [
    {
      "cell_type": "markdown",
      "metadata": {
        "id": "view-in-github",
        "colab_type": "text"
      },
      "source": [
        "<a href=\"https://colab.research.google.com/github/alannasant0s/alannasant0s/blob/main/Ciclo01_Resolu%C3%A7%C3%A3o_de_exercicios_Python.ipynb\" target=\"_parent\"><img src=\"https://colab.research.google.com/assets/colab-badge.svg\" alt=\"Open In Colab\"/></a>"
      ]
    },
    {
      "cell_type": "markdown",
      "source": [
        "## **Resolução de exercicios de fixação**"
      ],
      "metadata": {
        "id": "eTC0jfnzjqCr"
      }
    },
    {
      "cell_type": "markdown",
      "source": [
        "**1 - Some o valor 10 com 30 e exiba na tela**"
      ],
      "metadata": {
        "id": "t2s-VC8HNMLv"
      }
    },
    {
      "cell_type": "code",
      "source": [
        "Soma = 10 + 30\n",
        "print('O resultado é:', Soma)"
      ],
      "metadata": {
        "colab": {
          "base_uri": "https://localhost:8080/"
        },
        "id": "onydqgJBN7P7",
        "outputId": "c01c6c65-4a01-489a-d973-88b95be81626"
      },
      "execution_count": 1,
      "outputs": [
        {
          "output_type": "stream",
          "name": "stdout",
          "text": [
            "O resultado é: 40\n"
          ]
        }
      ]
    },
    {
      "cell_type": "markdown",
      "source": [
        "**2 - Some os seguintes números: 10, 300, 0.4 , 10**"
      ],
      "metadata": {
        "id": "fBnlvVP3OP4s"
      }
    },
    {
      "cell_type": "code",
      "source": [
        "somatorio = 10 + 300 + 0.4 + 10\n",
        "print('O somatorio é:', somatorio)"
      ],
      "metadata": {
        "colab": {
          "base_uri": "https://localhost:8080/"
        },
        "id": "NamF2NnuOarx",
        "outputId": "7cc00062-dc32-401e-80a2-71e77ce9f48e"
      },
      "execution_count": 2,
      "outputs": [
        {
          "output_type": "stream",
          "name": "stdout",
          "text": [
            "O somatorio é: 320.4\n"
          ]
        }
      ]
    },
    {
      "cell_type": "markdown",
      "source": [
        "**3 - Desenvolva um script em python capaz de calcular a média harmônica entre 5 números: 2 , 3 , 5 , 6 , 9**"
      ],
      "metadata": {
        "id": "tErZr2fBOxIQ"
      }
    },
    {
      "cell_type": "code",
      "source": [
        "## Importando a biblioteca numpy para realizar os calculos\n",
        "import numpy as np\n",
        "\n",
        "## Declarando a variavel com os numeros\n",
        "numeros = (2,10,5,6,9)\n",
        "\n",
        "## Utilizando a função len para verificar o número de elementos da sequencia\n",
        "n = len(numeros)\n",
        "\n",
        "## Somando os inversos para aplicar a formula de média harmonica\n",
        "soma_inversos = sum(1/x for x in numeros)\n",
        "\n",
        "## Realizando o cálculo final\n",
        "media_harmonica = n / soma_inversos\n",
        "\n",
        "## Exibindo a informação obtida\n",
        "print('A média harmonica do conjunto de dados é: {:.2f}'.format( media_harmonica))"
      ],
      "metadata": {
        "colab": {
          "base_uri": "https://localhost:8080/"
        },
        "id": "wMITZr46PEOK",
        "outputId": "98b15763-cd8b-447a-f9dd-3301ededd14a"
      },
      "execution_count": 3,
      "outputs": [
        {
          "output_type": "stream",
          "name": "stdout",
          "text": [
            "A média harmonica do conjunto de dados é: 4.64\n"
          ]
        }
      ]
    },
    {
      "cell_type": "markdown",
      "source": [
        "**4 - Um ciêntista de dados jr precisa criar um algorítimo que seja capaz de calcular a média ponderada dos valores digitados pelo usuário. O usuário é capaz de digitar 8 valores. O primeiro número tem peso 0.5, o segunto 1.0, o terceiro 1.5, o quarto 2.0, o quinto 2.5, o sexto 3.0, o sétimo 3.5 e o oitavo 4.0. Portanto, o algoritimo deve ser capaz de calcular a média ponderada dos oito valores digitados pelo usuário, cada um com o seu respectivo peso.**"
      ],
      "metadata": {
        "id": "I-xyzKlIQcI3"
      }
    },
    {
      "cell_type": "code",
      "source": [
        "import numpy as np\n",
        "\n",
        "## Valores dos pesos\n",
        "pesos = (0.5, 1.0, 1.5, 2.0, 2.5, 3.0, 3.5, 4.0)\n",
        "\n",
        "## Valores a serem inseridos\n",
        "valor1 = float(input('Insira o primeiro valor: '))\n",
        "valor2 = float(input('Insira o segundo valor: '))\n",
        "valor3 = float(input('Insira o terceiro valor: '))\n",
        "valor4 = float(input('Insira o quarto valor: '))\n",
        "valor5 = float(input('Insira o quinto valor: '))\n",
        "valor6 = float(input('Insira o sexto valor: '))\n",
        "valor7 = float(input('Insira o sétimo valor: '))\n",
        "valor8 = float(input('Insira o oitavo valor: '))\n",
        "\n",
        "## Calculando a soma dos produtos\n",
        "soma_produtos = (valor1 * pesos[0] +\n",
        "                 valor2 * pesos[1] +\n",
        "                 valor3 * pesos[2] +\n",
        "                 valor4 * pesos[3] +\n",
        "                 valor5 * pesos[4] +\n",
        "                 valor6 * pesos[5] +\n",
        "                 valor7 * pesos[6] +\n",
        "                 valor8 * pesos[7])\n",
        "\n",
        "## Calculando o peso\n",
        "soma_pesos = sum(pesos)\n",
        "\n",
        "## Calculando a média ponderada\n",
        "media_ponderada = soma_produtos / soma_pesos\n",
        "\n",
        "## Mostrando o resultado na tela\n",
        "print( 'A média ponderada é: {:.2f}'.format ( media_ponderada))"
      ],
      "metadata": {
        "colab": {
          "base_uri": "https://localhost:8080/"
        },
        "id": "eZ5OnMw1RcVG",
        "outputId": "8576d78f-eeed-45f4-8864-181cd7c16a31"
      },
      "execution_count": 4,
      "outputs": [
        {
          "output_type": "stream",
          "name": "stdout",
          "text": [
            "Insira o primeiro valor: 50\n",
            "Insira o segundo valor: 200\n",
            "Insira o terceiro valor: 100\n",
            "Insira o quarto valor: 50\n",
            "Insira o quinto valor: 60\n",
            "Insira o sexto valor: 24\n",
            "Insira o sétimo valor: 22\n",
            "Insira o oitavo valor: 80\n",
            "A média ponderada é: 60.78\n"
          ]
        }
      ]
    },
    {
      "cell_type": "markdown",
      "source": [
        "5- Um programador jr precisa construir uma mini calculadora. Essa calculadora segue os seguintes padrões:\n",
        "\n",
        "\n",
        "> Se o usuário digitar um valor menor ou igual a 5, a calculadora vai multiplicar esse valor por 10 e retornar o valor resultante para o usuário.\n",
        "\n",
        "\n",
        "> Se o usuário digitar um valor entre 6 e 10, a calculadora multiplica por 20 o número digitado, e se o usuário digitar um valor maior ou igual a 11, a calculadora soma 100 ao valor digitado . Ajude o programador jr a construir essa calculadora fornecendo comandos em python.\n",
        "\n",
        "\n",
        "\n"
      ],
      "metadata": {
        "id": "SCxhyl2pcSYH"
      }
    },
    {
      "cell_type": "code",
      "source": [
        "## Receber o valor inserido pelo usuário\n",
        "\n",
        "input_usuario = float(input( 'Digite um valor:'))\n",
        "\n",
        "## Verificando as condições\n",
        "\n",
        "if input_usuario <= 5 :\n",
        "    valor_resultante = input_usuario * 10\n",
        "    print( ' O valor resultante é:', valor_resultante)\n",
        "\n",
        "elif 6 <= input_usuario <= 10 :\n",
        "    valor_resultante = input_usuario * 20\n",
        "    print(' O valor resultante é:', valor_resultante)\n",
        "elif input_usuario >= 11 :\n",
        "    valor_resultante = input_usuario * 100\n",
        "    print('O valor resultante é:', valor_resultante)\n",
        "\n",
        "else:\n",
        "     print('Entrada inválida, por favor digite outro valor')"
      ],
      "metadata": {
        "colab": {
          "base_uri": "https://localhost:8080/"
        },
        "id": "zzDBmIjkcb_l",
        "outputId": "6996ae12-e4fe-48c0-dd09-948bf52e8ce6"
      },
      "execution_count": null,
      "outputs": [
        {
          "output_type": "stream",
          "name": "stdout",
          "text": [
            "Digite um valor:8\n",
            " O valor resultante é: 160.0\n"
          ]
        }
      ]
    },
    {
      "cell_type": "markdown",
      "source": [
        "6 - Um programador jr precisa criar uma agoritmo que consiga fazer a comparação entre 3 valores e exibir qual é o maior valor e qual é o menor valor inserido.\n"
      ],
      "metadata": {
        "id": "omGLEAqkeE3p"
      }
    },
    {
      "cell_type": "code",
      "source": [
        "## Receber valores inseridos pelo usuário\n",
        "\n",
        "valor1 = float(input( ' Insira o primeiro valor:'))\n",
        "valor2=  float(input( ' Insira o segundo valor: '))\n",
        "valor3=  float(input( ' Insira o terceiro valor:'))\n",
        "\n",
        "## Comparando os valores\n",
        "if valor1 > valor2 and valor1 > valor3 :\n",
        "  print( ' O valor máximo é:', valor1)\n",
        "elif valor1 < valor2 and valor1 < valor3 :\n",
        "\n",
        "  print( ' O valor mínimo é:', valor1)\n",
        "elif valor2 > valor1 and valor2 > valor3 :\n",
        "  print(' O valor máximo é:', valor2)\n",
        "elif valor2 < valor1 and valor2 > valor3 :\n",
        "  print(' O valor mínimo é:', valor2)\n",
        "elif valor3 > valor1 and valor3 > valor2 :\n",
        "  print('O valor máximo é:', valor3)\n",
        "elif valor3 < valor1 and valor3 > valor2 :\n",
        "  print('O valor minimo é:', valor3)\n",
        "\n"
      ],
      "metadata": {
        "colab": {
          "base_uri": "https://localhost:8080/"
        },
        "id": "FTgYycOKkktI",
        "outputId": "c71b92f6-e972-40aa-8d25-83aee4ce1994"
      },
      "execution_count": null,
      "outputs": [
        {
          "output_type": "stream",
          "name": "stdout",
          "text": [
            " Insira o primeiro valor:2\n",
            " Insira o segundo valor: 100\n",
            " Insira o terceiro valor:45\n",
            " O valor mínimo é: 2.0\n"
          ]
        }
      ]
    },
    {
      "cell_type": "code",
      "source": [],
      "metadata": {
        "id": "nKKR0N-BtAa3"
      },
      "execution_count": null,
      "outputs": []
    }
  ]
}